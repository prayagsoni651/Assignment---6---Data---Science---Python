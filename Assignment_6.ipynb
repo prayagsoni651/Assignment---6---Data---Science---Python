{
 "cells": [
  {
   "cell_type": "code",
   "execution_count": 2,
   "metadata": {},
   "outputs": [
    {
     "name": "stdout",
     "output_type": "stream",
     "text": [
      "Hello, World!\n",
      "How are you today?\n",
      "This is a\ttabbed line.\n",
      "She said, \"Hello!\"\n",
      "This is a double backslash: \\\n"
     ]
    }
   ],
   "source": [
    "# 1. What are escape characters, and how do you use them?\n",
    "\n",
    "\n",
    "'''\n",
    "\n",
    "Escape characters are special characters in a programming or markup language \n",
    "that signal the beginning of an escape sequence. An escape sequence is a \n",
    "combination of characters that represents a special character or action \n",
    "that cannot be easily represented directly in the code\n",
    "\n",
    "'''\n",
    "\n",
    "'''\n",
    "Newline character:\n",
    "\n",
    " = Escape sequence: \\n\n",
    " = Usage: Represents a newline character, causing text following it to start on \n",
    "   a new line.\n",
    "'''\n",
    "\n",
    "print(\"Hello, World!\\nHow are you today?\")\n",
    "\n",
    "\n",
    "'''\n",
    "Tab character:\n",
    "\n",
    " = Escape sequence: \\t\n",
    " = Usage: Represents a tab character, causing text following it to be indented\n",
    "'''\n",
    "print(\"This is a\\ttabbed line.\");\n",
    "\n",
    "'''\n",
    "Double quote within a string:\n",
    "\n",
    " = Escape sequence: \\\"\n",
    " = Usage: Allows you to include a double quote within a string that is enclosed\n",
    "   by double quotes\n",
    "'''\n",
    "print(\"She said, \\\"Hello!\\\"\");\n",
    "\n",
    "\n",
    "\n",
    "'''\n",
    "Backslash itself:\n",
    "\n",
    " = Escape sequence: \\\\\n",
    " = Usage: Represents a literal backslash character.\n",
    "'''\n",
    "print(\"This is a double backslash: \\\\\");\n",
    "\n",
    "\n",
    "\n",
    "\n",
    "\n"
   ]
  },
  {
   "cell_type": "code",
   "execution_count": 3,
   "metadata": {},
   "outputs": [
    {
     "name": "stdout",
     "output_type": "stream",
     "text": [
      "This is line 1.\n",
      "This is line 2.\n"
     ]
    }
   ],
   "source": [
    "# 2. What do the escape characters n and t stand for?\n",
    "\n",
    "\n",
    "'''\n",
    "\\n: Newline Character\n",
    "\n",
    " = This escape sequence is used to represent the newline character. When \n",
    "   included in a string, it instructs the system to start a new line for \n",
    "   the text following it.\n",
    " = Example (in Python)\n",
    "\n",
    "'''\n",
    "\n",
    "print(\"This is line 1.\\nThis is line 2.\")\n",
    "\n",
    "\n",
    "\n"
   ]
  },
  {
   "cell_type": "code",
   "execution_count": 4,
   "metadata": {},
   "outputs": [
    {
     "name": "stdout",
     "output_type": "stream",
     "text": [
      "This is a backslash: \\\n"
     ]
    }
   ],
   "source": [
    "# 3. What is the way to include backslash characters in a string?\n",
    "\n",
    "'''\n",
    "\n",
    "To include a backslash character itself in a string, you can use a double \n",
    "backslash (\\\\). This is an escape sequence where the first backslash \n",
    "serves as the escape character, and the second backslash is treated \n",
    "as a literal character.\n",
    "\n",
    "\n",
    "'''\n",
    "string_with_backslash = \"This is a backslash: \\\\\"\n",
    "print(string_with_backslash)\n"
   ]
  },
  {
   "cell_type": "code",
   "execution_count": 8,
   "metadata": {},
   "outputs": [
    {
     "name": "stdout",
     "output_type": "stream",
     "text": [
      "This is line 1.\n",
      "This is line 2.\n"
     ]
    }
   ],
   "source": [
    "# 5. How do you write a string of newlines if you dont want to \n",
    "# use the n character?\n",
    "\n",
    "lines = [\"This is line 1.\", \"This is line 2.\"]\n",
    "multiline_string = '\\n'.join(lines)\n",
    "print(multiline_string)\n",
    "\n"
   ]
  },
  {
   "cell_type": "code",
   "execution_count": 10,
   "metadata": {},
   "outputs": [
    {
     "name": "stdout",
     "output_type": "stream",
     "text": [
      "e\n",
      "Hello\n",
      "Hello\n",
      "lo,world!\n"
     ]
    }
   ],
   "source": [
    "'''\n",
    "6. What are the values of the given expressions?\n",
    "'Hello,world!'[1]\n",
    "'Hello,world!'[0:5]\n",
    "'Hello,world!'[:5]\n",
    "'Hello,world!'[3:]\n",
    "'''\n",
    "\n",
    "print('Hello,world!'[1])\n",
    "print('Hello,world!'[0:5])\n",
    "print('Hello,world!'[:5])\n",
    "print('Hello,world!'[3:])"
   ]
  },
  {
   "cell_type": "code",
   "execution_count": 12,
   "metadata": {},
   "outputs": [
    {
     "name": "stdout",
     "output_type": "stream",
     "text": [
      "HELLO\n",
      "True\n",
      "hello\n"
     ]
    }
   ],
   "source": [
    "'''\n",
    "7. What are the values of the following expressions?\n",
    "'Hello'.upper()\n",
    "'Hello'.upper().isupper()\n",
    "'Hello'.upper().lower()\n",
    "\n",
    "'''\n",
    "\n",
    "print('Hello'.upper())\n",
    "print('Hello'.upper().isupper())\n",
    "print('Hello'.upper().lower())"
   ]
  },
  {
   "cell_type": "code",
   "execution_count": 13,
   "metadata": {},
   "outputs": [
    {
     "name": "stdout",
     "output_type": "stream",
     "text": [
      "['Remember', ',', 'remember', ',the', 'fifth', 'of', 'july']\n",
      "There-can-only-one.\n"
     ]
    }
   ],
   "source": [
    "'''\n",
    "8. What are the values of the following expressions?\n",
    "'Remember , remember ,the fifth of july'.split()\n",
    "'-'.join('There can only one.'.split())\n",
    "\n",
    "'''\n",
    "\n",
    "print('Remember , remember ,the fifth of july'.split())\n",
    "print('-'.join('There can only one.'.split()))"
   ]
  },
  {
   "cell_type": "code",
   "execution_count": 15,
   "metadata": {},
   "outputs": [
    {
     "name": "stdout",
     "output_type": "stream",
     "text": [
      "Right - justify \n",
      "     Hello\n",
      "Left justyfing\n",
      "Hello     \n",
      "Center justyfing\n",
      "  Hello   \n"
     ]
    }
   ],
   "source": [
    "# 9. What are the methods for right-justifying, \n",
    "# left-justifying, and centering a string?\n",
    "\n",
    "\n",
    "'''\n",
    "Right-Justify:\n",
    "\n",
    "Use the str.rjust(width, fillchar) method to right-justify a string within \n",
    "a specified width. If the string is shorter than the specified width, \n",
    "it will be padded on the left with the specified fill character\n",
    "(default is space)\n",
    "\n",
    "'''\n",
    "print(\"Right - justify \")\n",
    "original_string = \"Hello\"\n",
    "justified_string = original_string.rjust(10)\n",
    "print(justified_string)\n",
    "\n",
    "\n",
    "'''\n",
    "Left-Justify:\n",
    "\n",
    "Use the str.ljust(width, fillchar) method to left-justify a string within \n",
    "a specified width. If the string is shorter than the specified width,\n",
    "it will be padded on the right with the specified fill character \n",
    "(default is space)\n",
    "'''\n",
    "\n",
    "print(\"Left justyfing\")\n",
    "original_string = \"Hello\"\n",
    "justified_string = original_string.ljust(10)\n",
    "print(justified_string)\n",
    "\n",
    "\n",
    "\n",
    "'''\n",
    "Center:\n",
    "\n",
    "Use the str.center(width, fillchar) method to center a string within a specified\n",
    "width. If the string is shorter than the specified width, it will be padded \n",
    "on both sides with the specified fill character (default is space).\n",
    "\n",
    "'''\n",
    "print(\"Center justyfing\")\n",
    "original_string = \"Hello\"\n",
    "centered_string = original_string.center(10)\n",
    "print(centered_string)\n",
    "\n",
    "\n"
   ]
  },
  {
   "cell_type": "code",
   "execution_count": 16,
   "metadata": {},
   "outputs": [
    {
     "name": "stdout",
     "output_type": "stream",
     "text": [
      "Hello, World!\n"
     ]
    }
   ],
   "source": [
    "# 10. What is the best way to remove whitespace characters from the start or end?\n",
    "\n",
    "\n",
    "'''\n",
    "In Python, you can use the str.strip() method to remove whitespace characters \n",
    "from the start and end of a string. This method returns a new string with \n",
    "leading and trailing whitespaces removed.\n",
    "\n",
    "'''\n",
    "\n",
    "original_string = \"   Hello, World!   \"\n",
    "stripped_string = original_string.strip()\n",
    "\n",
    "print(stripped_string)\n",
    "\n"
   ]
  },
  {
   "cell_type": "code",
   "execution_count": null,
   "metadata": {},
   "outputs": [],
   "source": []
  }
 ],
 "metadata": {
  "kernelspec": {
   "display_name": "base",
   "language": "python",
   "name": "python3"
  },
  "language_info": {
   "codemirror_mode": {
    "name": "ipython",
    "version": 3
   },
   "file_extension": ".py",
   "mimetype": "text/x-python",
   "name": "python",
   "nbconvert_exporter": "python",
   "pygments_lexer": "ipython3",
   "version": "3.11.4"
  }
 },
 "nbformat": 4,
 "nbformat_minor": 2
}
